{
 "cells": [
  {
   "cell_type": "markdown",
   "id": "55ee2245-e6b1-4cdf-8e64-bba372aa8354",
   "metadata": {},
   "source": [
    "# Credit Card Default Predictor (DSCI Group Project Proposal)"
   ]
  },
  {
   "cell_type": "markdown",
   "id": "a9c27318-1b46-4c94-87e4-9f31cffe335e",
   "metadata": {},
   "source": [
    "## Introduction\n",
    "Defaulting on a credit card payment is the event that a client of a bank does not pay the credit card balance, hence causing the bank/lender to lose money. And hence the chance that someone would default on a payment is a significant impact on whether a bank should approve a credit card application as well as the credit limit given.\n",
    "\n",
    "This project aims to come up with a classification predictive model on whether the an account will default on his/her next credit card payment. The dataset is downloaded from [Kaggle](https://www.kaggle.com/datasets/uciml/default-of-credit-card-clients-dataset).\n",
    "\n",
    "This dataset contains information on default payments, demographic factors, credit data, history of payment, and bill statements of credit card clients in Taiwan from April 2005 to September 2005. [[1]](https://www.kaggle.com/datasets/uciml/default-of-credit-card-clients-dataset)\n",
    "\n",
    "We will be using all columns except ID as predictors and default.payment.next.month for the value we are predicting for reasons explained in the data summarization and visualization step\n"
   ]
  },
  {
   "cell_type": "markdown",
   "id": "aeb59241-50d3-4b4a-ba27-11f3f25c0301",
   "metadata": {},
   "source": [
    "## Methods and Results"
   ]
  },
  {
   "cell_type": "markdown",
   "id": "5281ac60-afee-4134-a133-5c58ca0936d4",
   "metadata": {},
   "source": [
    "### Library Import \n",
    "I used suppressPackageStartupMessages for cleaniness"
   ]
  },
  {
   "cell_type": "code",
   "execution_count": 1,
   "id": "e011f7c7-4888-4078-9d74-7c7421de0bb5",
   "metadata": {},
   "outputs": [],
   "source": [
    "suppressPackageStartupMessages(library(tidyverse))\n",
    "library(repr)\n",
    "suppressPackageStartupMessages(library(tidymodels))\n",
    "options(repr.matrix.max.rows = 6)\n",
    "library(ggplot2)\n",
    "suppressPackageStartupMessages(require(gridExtra))\n",
    "set.seed(9999)"
   ]
  },
  {
   "cell_type": "markdown",
   "id": "55f3a0c6-d64b-419b-8f68-3a26ce5dce69",
   "metadata": {},
   "source": [
    "### Data Import"
   ]
  },
  {
   "cell_type": "code",
   "execution_count": 2,
   "id": "850237a6-8d83-46b5-a0fd-b656084859a8",
   "metadata": {},
   "outputs": [
    {
     "data": {
      "text/html": [
       "<table class=\"dataframe\">\n",
       "<caption>A spec_tbl_df: 30000 × 25</caption>\n",
       "<thead>\n",
       "\t<tr><th scope=col>ID</th><th scope=col>LIMIT_BAL</th><th scope=col>SEX</th><th scope=col>EDUCATION</th><th scope=col>MARRIAGE</th><th scope=col>AGE</th><th scope=col>PAY_0</th><th scope=col>PAY_2</th><th scope=col>PAY_3</th><th scope=col>PAY_4</th><th scope=col>⋯</th><th scope=col>BILL_AMT4</th><th scope=col>BILL_AMT5</th><th scope=col>BILL_AMT6</th><th scope=col>PAY_AMT1</th><th scope=col>PAY_AMT2</th><th scope=col>PAY_AMT3</th><th scope=col>PAY_AMT4</th><th scope=col>PAY_AMT5</th><th scope=col>PAY_AMT6</th><th scope=col>default.payment.next.month</th></tr>\n",
       "\t<tr><th scope=col>&lt;dbl&gt;</th><th scope=col>&lt;dbl&gt;</th><th scope=col>&lt;dbl&gt;</th><th scope=col>&lt;dbl&gt;</th><th scope=col>&lt;dbl&gt;</th><th scope=col>&lt;dbl&gt;</th><th scope=col>&lt;dbl&gt;</th><th scope=col>&lt;dbl&gt;</th><th scope=col>&lt;dbl&gt;</th><th scope=col>&lt;dbl&gt;</th><th scope=col>⋯</th><th scope=col>&lt;dbl&gt;</th><th scope=col>&lt;dbl&gt;</th><th scope=col>&lt;dbl&gt;</th><th scope=col>&lt;dbl&gt;</th><th scope=col>&lt;dbl&gt;</th><th scope=col>&lt;dbl&gt;</th><th scope=col>&lt;dbl&gt;</th><th scope=col>&lt;dbl&gt;</th><th scope=col>&lt;dbl&gt;</th><th scope=col>&lt;dbl&gt;</th></tr>\n",
       "</thead>\n",
       "<tbody>\n",
       "\t<tr><td>1</td><td> 20000</td><td>2</td><td>2</td><td>1</td><td>24</td><td> 2</td><td>2</td><td>-1</td><td>-1</td><td>⋯</td><td>    0</td><td>    0</td><td>    0</td><td>   0</td><td> 689</td><td>   0</td><td>   0</td><td>   0</td><td>   0</td><td>1</td></tr>\n",
       "\t<tr><td>2</td><td>120000</td><td>2</td><td>2</td><td>2</td><td>26</td><td>-1</td><td>2</td><td> 0</td><td> 0</td><td>⋯</td><td> 3272</td><td> 3455</td><td> 3261</td><td>   0</td><td>1000</td><td>1000</td><td>1000</td><td>   0</td><td>2000</td><td>1</td></tr>\n",
       "\t<tr><td>3</td><td> 90000</td><td>2</td><td>2</td><td>2</td><td>34</td><td> 0</td><td>0</td><td> 0</td><td> 0</td><td>⋯</td><td>14331</td><td>14948</td><td>15549</td><td>1518</td><td>1500</td><td>1000</td><td>1000</td><td>1000</td><td>5000</td><td>0</td></tr>\n",
       "\t<tr><td>⋮</td><td>⋮</td><td>⋮</td><td>⋮</td><td>⋮</td><td>⋮</td><td>⋮</td><td>⋮</td><td>⋮</td><td>⋮</td><td>⋱</td><td>⋮</td><td>⋮</td><td>⋮</td><td>⋮</td><td>⋮</td><td>⋮</td><td>⋮</td><td>⋮</td><td>⋮</td><td>⋮</td></tr>\n",
       "\t<tr><td>29998</td><td>30000</td><td>1</td><td>2</td><td>2</td><td>37</td><td>4</td><td> 3</td><td>2</td><td>-1</td><td>⋯</td><td>20878</td><td>20582</td><td>19357</td><td>    0</td><td>   0</td><td>22000</td><td>4200</td><td> 2000</td><td>3100</td><td>1</td></tr>\n",
       "\t<tr><td>29999</td><td>80000</td><td>1</td><td>3</td><td>1</td><td>41</td><td>1</td><td>-1</td><td>0</td><td> 0</td><td>⋯</td><td>52774</td><td>11855</td><td>48944</td><td>85900</td><td>3409</td><td> 1178</td><td>1926</td><td>52964</td><td>1804</td><td>1</td></tr>\n",
       "\t<tr><td>30000</td><td>50000</td><td>1</td><td>2</td><td>1</td><td>46</td><td>0</td><td> 0</td><td>0</td><td> 0</td><td>⋯</td><td>36535</td><td>32428</td><td>15313</td><td> 2078</td><td>1800</td><td> 1430</td><td>1000</td><td> 1000</td><td>1000</td><td>1</td></tr>\n",
       "</tbody>\n",
       "</table>\n"
      ],
      "text/latex": [
       "A spec\\_tbl\\_df: 30000 × 25\n",
       "\\begin{tabular}{lllllllllllllllllllll}\n",
       " ID & LIMIT\\_BAL & SEX & EDUCATION & MARRIAGE & AGE & PAY\\_0 & PAY\\_2 & PAY\\_3 & PAY\\_4 & ⋯ & BILL\\_AMT4 & BILL\\_AMT5 & BILL\\_AMT6 & PAY\\_AMT1 & PAY\\_AMT2 & PAY\\_AMT3 & PAY\\_AMT4 & PAY\\_AMT5 & PAY\\_AMT6 & default.payment.next.month\\\\\n",
       " <dbl> & <dbl> & <dbl> & <dbl> & <dbl> & <dbl> & <dbl> & <dbl> & <dbl> & <dbl> & ⋯ & <dbl> & <dbl> & <dbl> & <dbl> & <dbl> & <dbl> & <dbl> & <dbl> & <dbl> & <dbl>\\\\\n",
       "\\hline\n",
       "\t 1 &  20000 & 2 & 2 & 1 & 24 &  2 & 2 & -1 & -1 & ⋯ &     0 &     0 &     0 &    0 &  689 &    0 &    0 &    0 &    0 & 1\\\\\n",
       "\t 2 & 120000 & 2 & 2 & 2 & 26 & -1 & 2 &  0 &  0 & ⋯ &  3272 &  3455 &  3261 &    0 & 1000 & 1000 & 1000 &    0 & 2000 & 1\\\\\n",
       "\t 3 &  90000 & 2 & 2 & 2 & 34 &  0 & 0 &  0 &  0 & ⋯ & 14331 & 14948 & 15549 & 1518 & 1500 & 1000 & 1000 & 1000 & 5000 & 0\\\\\n",
       "\t ⋮ & ⋮ & ⋮ & ⋮ & ⋮ & ⋮ & ⋮ & ⋮ & ⋮ & ⋮ & ⋱ & ⋮ & ⋮ & ⋮ & ⋮ & ⋮ & ⋮ & ⋮ & ⋮ & ⋮ & ⋮\\\\\n",
       "\t 29998 & 30000 & 1 & 2 & 2 & 37 & 4 &  3 & 2 & -1 & ⋯ & 20878 & 20582 & 19357 &     0 &    0 & 22000 & 4200 &  2000 & 3100 & 1\\\\\n",
       "\t 29999 & 80000 & 1 & 3 & 1 & 41 & 1 & -1 & 0 &  0 & ⋯ & 52774 & 11855 & 48944 & 85900 & 3409 &  1178 & 1926 & 52964 & 1804 & 1\\\\\n",
       "\t 30000 & 50000 & 1 & 2 & 1 & 46 & 0 &  0 & 0 &  0 & ⋯ & 36535 & 32428 & 15313 &  2078 & 1800 &  1430 & 1000 &  1000 & 1000 & 1\\\\\n",
       "\\end{tabular}\n"
      ],
      "text/markdown": [
       "\n",
       "A spec_tbl_df: 30000 × 25\n",
       "\n",
       "| ID &lt;dbl&gt; | LIMIT_BAL &lt;dbl&gt; | SEX &lt;dbl&gt; | EDUCATION &lt;dbl&gt; | MARRIAGE &lt;dbl&gt; | AGE &lt;dbl&gt; | PAY_0 &lt;dbl&gt; | PAY_2 &lt;dbl&gt; | PAY_3 &lt;dbl&gt; | PAY_4 &lt;dbl&gt; | ⋯ ⋯ | BILL_AMT4 &lt;dbl&gt; | BILL_AMT5 &lt;dbl&gt; | BILL_AMT6 &lt;dbl&gt; | PAY_AMT1 &lt;dbl&gt; | PAY_AMT2 &lt;dbl&gt; | PAY_AMT3 &lt;dbl&gt; | PAY_AMT4 &lt;dbl&gt; | PAY_AMT5 &lt;dbl&gt; | PAY_AMT6 &lt;dbl&gt; | default.payment.next.month &lt;dbl&gt; |\n",
       "|---|---|---|---|---|---|---|---|---|---|---|---|---|---|---|---|---|---|---|---|---|\n",
       "| 1 |  20000 | 2 | 2 | 1 | 24 |  2 | 2 | -1 | -1 | ⋯ |     0 |     0 |     0 |    0 |  689 |    0 |    0 |    0 |    0 | 1 |\n",
       "| 2 | 120000 | 2 | 2 | 2 | 26 | -1 | 2 |  0 |  0 | ⋯ |  3272 |  3455 |  3261 |    0 | 1000 | 1000 | 1000 |    0 | 2000 | 1 |\n",
       "| 3 |  90000 | 2 | 2 | 2 | 34 |  0 | 0 |  0 |  0 | ⋯ | 14331 | 14948 | 15549 | 1518 | 1500 | 1000 | 1000 | 1000 | 5000 | 0 |\n",
       "| ⋮ | ⋮ | ⋮ | ⋮ | ⋮ | ⋮ | ⋮ | ⋮ | ⋮ | ⋮ | ⋱ | ⋮ | ⋮ | ⋮ | ⋮ | ⋮ | ⋮ | ⋮ | ⋮ | ⋮ | ⋮ |\n",
       "| 29998 | 30000 | 1 | 2 | 2 | 37 | 4 |  3 | 2 | -1 | ⋯ | 20878 | 20582 | 19357 |     0 |    0 | 22000 | 4200 |  2000 | 3100 | 1 |\n",
       "| 29999 | 80000 | 1 | 3 | 1 | 41 | 1 | -1 | 0 |  0 | ⋯ | 52774 | 11855 | 48944 | 85900 | 3409 |  1178 | 1926 | 52964 | 1804 | 1 |\n",
       "| 30000 | 50000 | 1 | 2 | 1 | 46 | 0 |  0 | 0 |  0 | ⋯ | 36535 | 32428 | 15313 |  2078 | 1800 |  1430 | 1000 |  1000 | 1000 | 1 |\n",
       "\n"
      ],
      "text/plain": [
       "      ID    LIMIT_BAL SEX EDUCATION MARRIAGE AGE PAY_0 PAY_2 PAY_3 PAY_4 ⋯\n",
       "1     1      20000    2   2         1        24   2    2     -1    -1    ⋯\n",
       "2     2     120000    2   2         2        26  -1    2      0     0    ⋯\n",
       "3     3      90000    2   2         2        34   0    0      0     0    ⋯\n",
       "⋮     ⋮     ⋮         ⋮   ⋮         ⋮        ⋮   ⋮     ⋮     ⋮     ⋮     ⋱\n",
       "29998 29998 30000     1   2         2        37  4      3    2     -1    ⋯\n",
       "29999 29999 80000     1   3         1        41  1     -1    0      0    ⋯\n",
       "30000 30000 50000     1   2         1        46  0      0    0      0    ⋯\n",
       "      BILL_AMT4 BILL_AMT5 BILL_AMT6 PAY_AMT1 PAY_AMT2 PAY_AMT3 PAY_AMT4\n",
       "1         0         0         0        0      689        0        0    \n",
       "2      3272      3455      3261        0     1000     1000     1000    \n",
       "3     14331     14948     15549     1518     1500     1000     1000    \n",
       "⋮     ⋮         ⋮         ⋮         ⋮        ⋮        ⋮        ⋮       \n",
       "29998 20878     20582     19357         0       0     22000    4200    \n",
       "29999 52774     11855     48944     85900    3409      1178    1926    \n",
       "30000 36535     32428     15313      2078    1800      1430    1000    \n",
       "      PAY_AMT5 PAY_AMT6 default.payment.next.month\n",
       "1        0        0     1                         \n",
       "2        0     2000     1                         \n",
       "3     1000     5000     0                         \n",
       "⋮     ⋮        ⋮        ⋮                         \n",
       "29998  2000    3100     1                         \n",
       "29999 52964    1804     1                         \n",
       "30000  1000    1000     1                         "
      ]
     },
     "metadata": {},
     "output_type": "display_data"
    }
   ],
   "source": [
    "data_url <- url(\"https://raw.githubusercontent.com/mlool/dsci-100-2023W1-group-008-31/main/data/UCI_Credit_Card.csv\")\n",
    "credit_card_data <- read_csv(data_url, show_col_types = FALSE)\n",
    "credit_card_data"
   ]
  },
  {
   "cell_type": "markdown",
   "id": "0c6e9401-932a-41d1-b011-91e43a4b17e7",
   "metadata": {},
   "source": [
    "### Cleaning and Wrangling\n",
    "First, I wish to remove all rows that has a datapoint outside the specificed possible values gotten from the source (eg. a 10 when the column should have have value 0 to 5). I chose to do it before splitting since those invalid entries are going to be removed anyways and as those are the majority of the entries (only 4000 out of 30000 is valid) if we split first then filter, we may end up in cases only very few valid entries in the test data."
   ]
  },
  {
   "cell_type": "code",
   "execution_count": 3,
   "id": "8d5d3590-97bb-474a-8c7c-e31c9d578877",
   "metadata": {},
   "outputs": [
    {
     "data": {
      "text/html": [
       "<table class=\"dataframe\">\n",
       "<caption>A tibble: 4047 × 25</caption>\n",
       "<thead>\n",
       "\t<tr><th scope=col>ID</th><th scope=col>LIMIT_BAL</th><th scope=col>SEX</th><th scope=col>EDUCATION</th><th scope=col>MARRIAGE</th><th scope=col>AGE</th><th scope=col>PAY_1</th><th scope=col>PAY_2</th><th scope=col>PAY_3</th><th scope=col>PAY_4</th><th scope=col>⋯</th><th scope=col>BILL_AMT4</th><th scope=col>BILL_AMT5</th><th scope=col>BILL_AMT6</th><th scope=col>PAY_AMT1</th><th scope=col>PAY_AMT2</th><th scope=col>PAY_AMT3</th><th scope=col>PAY_AMT4</th><th scope=col>PAY_AMT5</th><th scope=col>PAY_AMT6</th><th scope=col>default.payment.next.month</th></tr>\n",
       "\t<tr><th scope=col>&lt;dbl&gt;</th><th scope=col>&lt;dbl&gt;</th><th scope=col>&lt;fct&gt;</th><th scope=col>&lt;fct&gt;</th><th scope=col>&lt;fct&gt;</th><th scope=col>&lt;dbl&gt;</th><th scope=col>&lt;dbl&gt;</th><th scope=col>&lt;dbl&gt;</th><th scope=col>&lt;dbl&gt;</th><th scope=col>&lt;dbl&gt;</th><th scope=col>⋯</th><th scope=col>&lt;dbl&gt;</th><th scope=col>&lt;dbl&gt;</th><th scope=col>&lt;dbl&gt;</th><th scope=col>&lt;dbl&gt;</th><th scope=col>&lt;dbl&gt;</th><th scope=col>&lt;dbl&gt;</th><th scope=col>&lt;dbl&gt;</th><th scope=col>&lt;dbl&gt;</th><th scope=col>&lt;dbl&gt;</th><th scope=col>&lt;fct&gt;</th></tr>\n",
       "</thead>\n",
       "<tbody>\n",
       "\t<tr><td>12</td><td>260000</td><td>2</td><td>1</td><td>2</td><td>51</td><td>-1</td><td>-1</td><td>-1</td><td>-1</td><td>⋯</td><td>8517</td><td>22287</td><td>13668</td><td>21818</td><td>9966</td><td>8583</td><td>22301</td><td>  0</td><td>3640</td><td>0</td></tr>\n",
       "\t<tr><td>22</td><td>120000</td><td>2</td><td>2</td><td>1</td><td>39</td><td>-1</td><td>-1</td><td>-1</td><td>-1</td><td>⋯</td><td>   0</td><td>  632</td><td>  316</td><td>  316</td><td> 316</td><td>   0</td><td>  632</td><td>316</td><td>   0</td><td>1</td></tr>\n",
       "\t<tr><td>29</td><td> 50000</td><td>2</td><td>3</td><td>1</td><td>47</td><td>-1</td><td>-1</td><td>-1</td><td>-1</td><td>⋯</td><td>2040</td><td>30430</td><td>  257</td><td> 3415</td><td>3421</td><td>2044</td><td>30430</td><td>257</td><td>   0</td><td>0</td></tr>\n",
       "\t<tr><td>⋮</td><td>⋮</td><td>⋮</td><td>⋮</td><td>⋮</td><td>⋮</td><td>⋮</td><td>⋮</td><td>⋮</td><td>⋮</td><td>⋱</td><td>⋮</td><td>⋮</td><td>⋮</td><td>⋮</td><td>⋮</td><td>⋮</td><td>⋮</td><td>⋮</td><td>⋮</td><td>⋮</td></tr>\n",
       "\t<tr><td>29977</td><td> 40000</td><td>1</td><td>2</td><td>2</td><td>47</td><td>2</td><td>2</td><td>3</td><td>2</td><td>⋯</td><td>51259</td><td>47151</td><td>46934</td><td>4000</td><td>   0</td><td>2000</td><td>   0</td><td>3520</td><td>   0</td><td>1</td></tr>\n",
       "\t<tr><td>29992</td><td>210000</td><td>1</td><td>2</td><td>1</td><td>34</td><td>3</td><td>2</td><td>2</td><td>2</td><td>⋯</td><td> 2500</td><td> 2500</td><td> 2500</td><td>   0</td><td>   0</td><td>   0</td><td>   0</td><td>   0</td><td>   0</td><td>1</td></tr>\n",
       "\t<tr><td>29995</td><td> 80000</td><td>1</td><td>2</td><td>2</td><td>34</td><td>2</td><td>2</td><td>2</td><td>2</td><td>⋯</td><td>77519</td><td>82607</td><td>81158</td><td>7000</td><td>3500</td><td>   0</td><td>7000</td><td>   0</td><td>4000</td><td>1</td></tr>\n",
       "</tbody>\n",
       "</table>\n"
      ],
      "text/latex": [
       "A tibble: 4047 × 25\n",
       "\\begin{tabular}{lllllllllllllllllllll}\n",
       " ID & LIMIT\\_BAL & SEX & EDUCATION & MARRIAGE & AGE & PAY\\_1 & PAY\\_2 & PAY\\_3 & PAY\\_4 & ⋯ & BILL\\_AMT4 & BILL\\_AMT5 & BILL\\_AMT6 & PAY\\_AMT1 & PAY\\_AMT2 & PAY\\_AMT3 & PAY\\_AMT4 & PAY\\_AMT5 & PAY\\_AMT6 & default.payment.next.month\\\\\n",
       " <dbl> & <dbl> & <fct> & <fct> & <fct> & <dbl> & <dbl> & <dbl> & <dbl> & <dbl> & ⋯ & <dbl> & <dbl> & <dbl> & <dbl> & <dbl> & <dbl> & <dbl> & <dbl> & <dbl> & <fct>\\\\\n",
       "\\hline\n",
       "\t 12 & 260000 & 2 & 1 & 2 & 51 & -1 & -1 & -1 & -1 & ⋯ & 8517 & 22287 & 13668 & 21818 & 9966 & 8583 & 22301 &   0 & 3640 & 0\\\\\n",
       "\t 22 & 120000 & 2 & 2 & 1 & 39 & -1 & -1 & -1 & -1 & ⋯ &    0 &   632 &   316 &   316 &  316 &    0 &   632 & 316 &    0 & 1\\\\\n",
       "\t 29 &  50000 & 2 & 3 & 1 & 47 & -1 & -1 & -1 & -1 & ⋯ & 2040 & 30430 &   257 &  3415 & 3421 & 2044 & 30430 & 257 &    0 & 0\\\\\n",
       "\t ⋮ & ⋮ & ⋮ & ⋮ & ⋮ & ⋮ & ⋮ & ⋮ & ⋮ & ⋮ & ⋱ & ⋮ & ⋮ & ⋮ & ⋮ & ⋮ & ⋮ & ⋮ & ⋮ & ⋮ & ⋮\\\\\n",
       "\t 29977 &  40000 & 1 & 2 & 2 & 47 & 2 & 2 & 3 & 2 & ⋯ & 51259 & 47151 & 46934 & 4000 &    0 & 2000 &    0 & 3520 &    0 & 1\\\\\n",
       "\t 29992 & 210000 & 1 & 2 & 1 & 34 & 3 & 2 & 2 & 2 & ⋯ &  2500 &  2500 &  2500 &    0 &    0 &    0 &    0 &    0 &    0 & 1\\\\\n",
       "\t 29995 &  80000 & 1 & 2 & 2 & 34 & 2 & 2 & 2 & 2 & ⋯ & 77519 & 82607 & 81158 & 7000 & 3500 &    0 & 7000 &    0 & 4000 & 1\\\\\n",
       "\\end{tabular}\n"
      ],
      "text/markdown": [
       "\n",
       "A tibble: 4047 × 25\n",
       "\n",
       "| ID &lt;dbl&gt; | LIMIT_BAL &lt;dbl&gt; | SEX &lt;fct&gt; | EDUCATION &lt;fct&gt; | MARRIAGE &lt;fct&gt; | AGE &lt;dbl&gt; | PAY_1 &lt;dbl&gt; | PAY_2 &lt;dbl&gt; | PAY_3 &lt;dbl&gt; | PAY_4 &lt;dbl&gt; | ⋯ ⋯ | BILL_AMT4 &lt;dbl&gt; | BILL_AMT5 &lt;dbl&gt; | BILL_AMT6 &lt;dbl&gt; | PAY_AMT1 &lt;dbl&gt; | PAY_AMT2 &lt;dbl&gt; | PAY_AMT3 &lt;dbl&gt; | PAY_AMT4 &lt;dbl&gt; | PAY_AMT5 &lt;dbl&gt; | PAY_AMT6 &lt;dbl&gt; | default.payment.next.month &lt;fct&gt; |\n",
       "|---|---|---|---|---|---|---|---|---|---|---|---|---|---|---|---|---|---|---|---|---|\n",
       "| 12 | 260000 | 2 | 1 | 2 | 51 | -1 | -1 | -1 | -1 | ⋯ | 8517 | 22287 | 13668 | 21818 | 9966 | 8583 | 22301 |   0 | 3640 | 0 |\n",
       "| 22 | 120000 | 2 | 2 | 1 | 39 | -1 | -1 | -1 | -1 | ⋯ |    0 |   632 |   316 |   316 |  316 |    0 |   632 | 316 |    0 | 1 |\n",
       "| 29 |  50000 | 2 | 3 | 1 | 47 | -1 | -1 | -1 | -1 | ⋯ | 2040 | 30430 |   257 |  3415 | 3421 | 2044 | 30430 | 257 |    0 | 0 |\n",
       "| ⋮ | ⋮ | ⋮ | ⋮ | ⋮ | ⋮ | ⋮ | ⋮ | ⋮ | ⋮ | ⋱ | ⋮ | ⋮ | ⋮ | ⋮ | ⋮ | ⋮ | ⋮ | ⋮ | ⋮ | ⋮ |\n",
       "| 29977 |  40000 | 1 | 2 | 2 | 47 | 2 | 2 | 3 | 2 | ⋯ | 51259 | 47151 | 46934 | 4000 |    0 | 2000 |    0 | 3520 |    0 | 1 |\n",
       "| 29992 | 210000 | 1 | 2 | 1 | 34 | 3 | 2 | 2 | 2 | ⋯ |  2500 |  2500 |  2500 |    0 |    0 |    0 |    0 |    0 |    0 | 1 |\n",
       "| 29995 |  80000 | 1 | 2 | 2 | 34 | 2 | 2 | 2 | 2 | ⋯ | 77519 | 82607 | 81158 | 7000 | 3500 |    0 | 7000 |    0 | 4000 | 1 |\n",
       "\n"
      ],
      "text/plain": [
       "     ID    LIMIT_BAL SEX EDUCATION MARRIAGE AGE PAY_1 PAY_2 PAY_3 PAY_4 ⋯\n",
       "1    12    260000    2   1         2        51  -1    -1    -1    -1    ⋯\n",
       "2    22    120000    2   2         1        39  -1    -1    -1    -1    ⋯\n",
       "3    29     50000    2   3         1        47  -1    -1    -1    -1    ⋯\n",
       "⋮    ⋮     ⋮         ⋮   ⋮         ⋮        ⋮   ⋮     ⋮     ⋮     ⋮     ⋱\n",
       "4045 29977  40000    1   2         2        47  2     2     3     2     ⋯\n",
       "4046 29992 210000    1   2         1        34  3     2     2     2     ⋯\n",
       "4047 29995  80000    1   2         2        34  2     2     2     2     ⋯\n",
       "     BILL_AMT4 BILL_AMT5 BILL_AMT6 PAY_AMT1 PAY_AMT2 PAY_AMT3 PAY_AMT4 PAY_AMT5\n",
       "1    8517      22287     13668     21818    9966     8583     22301      0     \n",
       "2       0        632       316       316     316        0       632    316     \n",
       "3    2040      30430       257      3415    3421     2044     30430    257     \n",
       "⋮    ⋮         ⋮         ⋮         ⋮        ⋮        ⋮        ⋮        ⋮       \n",
       "4045 51259     47151     46934     4000        0     2000        0     3520    \n",
       "4046  2500      2500      2500        0        0        0        0        0    \n",
       "4047 77519     82607     81158     7000     3500        0     7000        0    \n",
       "     PAY_AMT6 default.payment.next.month\n",
       "1    3640     0                         \n",
       "2       0     1                         \n",
       "3       0     0                         \n",
       "⋮    ⋮        ⋮                         \n",
       "4045    0     1                         \n",
       "4046    0     1                         \n",
       "4047 4000     1                         "
      ]
     },
     "metadata": {},
     "output_type": "display_data"
    }
   ],
   "source": [
    "category_colnames <- c(\"SEX\", \"EDUCATION\", \"MARRIAGE\", \"default.payment.next.month\")\n",
    "sex_categories <- c(1, 2)\n",
    "education_categories <- c(1, 2, 3, 4, 5, 6)\n",
    "marriage_status <- c(1, 2, 3)\n",
    "pay_status <- c(-1, 1, 2, 3, 4, 5, 6, 7, 8, 9)\n",
    "credit_card_tidy <- credit_card_data |>\n",
    "                        rename(PAY_1 = PAY_0) |> # Since everything else start at 1 instead of 0\n",
    "                        mutate(across(all_of(category_colnames), ~as_factor(.x))) |>\n",
    "                        filter(SEX %in% sex_categories,\n",
    "                               EDUCATION %in% education_categories,\n",
    "                               MARRIAGE %in% marriage_status,\n",
    "                               PAY_1 %in% pay_status,\n",
    "                               PAY_2 %in% pay_status,\n",
    "                               PAY_3 %in% pay_status,\n",
    "                               PAY_4 %in% pay_status,\n",
    "                               PAY_5 %in% pay_status,\n",
    "                               PAY_6 %in% pay_status,)\n",
    "credit_card_tidy"
   ]
  },
  {
   "cell_type": "markdown",
   "id": "9db79ae5-7992-4447-8fec-364f57931797",
   "metadata": {},
   "source": [
    "Then after removing the invalid entries we split the data to perform analysis on only the training set to avoid violating the golden rule of machine learning."
   ]
  },
  {
   "cell_type": "code",
   "execution_count": 4,
   "id": "c02d05df-caa8-4c29-905a-8e2efdcde123",
   "metadata": {},
   "outputs": [
    {
     "data": {
      "text/html": [
       "<table class=\"dataframe\">\n",
       "<caption>A tibble: 3035 × 25</caption>\n",
       "<thead>\n",
       "\t<tr><th scope=col>ID</th><th scope=col>LIMIT_BAL</th><th scope=col>SEX</th><th scope=col>EDUCATION</th><th scope=col>MARRIAGE</th><th scope=col>AGE</th><th scope=col>PAY_1</th><th scope=col>PAY_2</th><th scope=col>PAY_3</th><th scope=col>PAY_4</th><th scope=col>⋯</th><th scope=col>BILL_AMT4</th><th scope=col>BILL_AMT5</th><th scope=col>BILL_AMT6</th><th scope=col>PAY_AMT1</th><th scope=col>PAY_AMT2</th><th scope=col>PAY_AMT3</th><th scope=col>PAY_AMT4</th><th scope=col>PAY_AMT5</th><th scope=col>PAY_AMT6</th><th scope=col>default.payment.next.month</th></tr>\n",
       "\t<tr><th scope=col>&lt;dbl&gt;</th><th scope=col>&lt;dbl&gt;</th><th scope=col>&lt;fct&gt;</th><th scope=col>&lt;fct&gt;</th><th scope=col>&lt;fct&gt;</th><th scope=col>&lt;dbl&gt;</th><th scope=col>&lt;dbl&gt;</th><th scope=col>&lt;dbl&gt;</th><th scope=col>&lt;dbl&gt;</th><th scope=col>&lt;dbl&gt;</th><th scope=col>⋯</th><th scope=col>&lt;dbl&gt;</th><th scope=col>&lt;dbl&gt;</th><th scope=col>&lt;dbl&gt;</th><th scope=col>&lt;dbl&gt;</th><th scope=col>&lt;dbl&gt;</th><th scope=col>&lt;dbl&gt;</th><th scope=col>&lt;dbl&gt;</th><th scope=col>&lt;dbl&gt;</th><th scope=col>&lt;dbl&gt;</th><th scope=col>&lt;fct&gt;</th></tr>\n",
       "</thead>\n",
       "<tbody>\n",
       "\t<tr><td>12</td><td>260000</td><td>2</td><td>1</td><td>2</td><td>51</td><td>-1</td><td>-1</td><td>-1</td><td>-1</td><td>⋯</td><td> 8517</td><td>22287</td><td>13668</td><td>21818</td><td> 9966</td><td> 8583</td><td>22301</td><td>    0</td><td>3640</td><td>0</td></tr>\n",
       "\t<tr><td>29</td><td> 50000</td><td>2</td><td>3</td><td>1</td><td>47</td><td>-1</td><td>-1</td><td>-1</td><td>-1</td><td>⋯</td><td> 2040</td><td>30430</td><td>  257</td><td> 3415</td><td> 3421</td><td> 2044</td><td>30430</td><td>  257</td><td>   0</td><td>0</td></tr>\n",
       "\t<tr><td>31</td><td>230000</td><td>2</td><td>1</td><td>2</td><td>27</td><td>-1</td><td>-1</td><td>-1</td><td>-1</td><td>⋯</td><td>15339</td><td>14307</td><td>36923</td><td>17270</td><td>13281</td><td>15339</td><td>14307</td><td>37292</td><td>   0</td><td>0</td></tr>\n",
       "\t<tr><td>⋮</td><td>⋮</td><td>⋮</td><td>⋮</td><td>⋮</td><td>⋮</td><td>⋮</td><td>⋮</td><td>⋮</td><td>⋮</td><td>⋱</td><td>⋮</td><td>⋮</td><td>⋮</td><td>⋮</td><td>⋮</td><td>⋮</td><td>⋮</td><td>⋮</td><td>⋮</td><td>⋮</td></tr>\n",
       "\t<tr><td>29977</td><td> 40000</td><td>1</td><td>2</td><td>2</td><td>47</td><td>2</td><td>2</td><td>3</td><td>2</td><td>⋯</td><td>51259</td><td>47151</td><td>46934</td><td>4000</td><td>   0</td><td>2000</td><td>   0</td><td>3520</td><td>   0</td><td>1</td></tr>\n",
       "\t<tr><td>29992</td><td>210000</td><td>1</td><td>2</td><td>1</td><td>34</td><td>3</td><td>2</td><td>2</td><td>2</td><td>⋯</td><td> 2500</td><td> 2500</td><td> 2500</td><td>   0</td><td>   0</td><td>   0</td><td>   0</td><td>   0</td><td>   0</td><td>1</td></tr>\n",
       "\t<tr><td>29995</td><td> 80000</td><td>1</td><td>2</td><td>2</td><td>34</td><td>2</td><td>2</td><td>2</td><td>2</td><td>⋯</td><td>77519</td><td>82607</td><td>81158</td><td>7000</td><td>3500</td><td>   0</td><td>7000</td><td>   0</td><td>4000</td><td>1</td></tr>\n",
       "</tbody>\n",
       "</table>\n"
      ],
      "text/latex": [
       "A tibble: 3035 × 25\n",
       "\\begin{tabular}{lllllllllllllllllllll}\n",
       " ID & LIMIT\\_BAL & SEX & EDUCATION & MARRIAGE & AGE & PAY\\_1 & PAY\\_2 & PAY\\_3 & PAY\\_4 & ⋯ & BILL\\_AMT4 & BILL\\_AMT5 & BILL\\_AMT6 & PAY\\_AMT1 & PAY\\_AMT2 & PAY\\_AMT3 & PAY\\_AMT4 & PAY\\_AMT5 & PAY\\_AMT6 & default.payment.next.month\\\\\n",
       " <dbl> & <dbl> & <fct> & <fct> & <fct> & <dbl> & <dbl> & <dbl> & <dbl> & <dbl> & ⋯ & <dbl> & <dbl> & <dbl> & <dbl> & <dbl> & <dbl> & <dbl> & <dbl> & <dbl> & <fct>\\\\\n",
       "\\hline\n",
       "\t 12 & 260000 & 2 & 1 & 2 & 51 & -1 & -1 & -1 & -1 & ⋯ &  8517 & 22287 & 13668 & 21818 &  9966 &  8583 & 22301 &     0 & 3640 & 0\\\\\n",
       "\t 29 &  50000 & 2 & 3 & 1 & 47 & -1 & -1 & -1 & -1 & ⋯ &  2040 & 30430 &   257 &  3415 &  3421 &  2044 & 30430 &   257 &    0 & 0\\\\\n",
       "\t 31 & 230000 & 2 & 1 & 2 & 27 & -1 & -1 & -1 & -1 & ⋯ & 15339 & 14307 & 36923 & 17270 & 13281 & 15339 & 14307 & 37292 &    0 & 0\\\\\n",
       "\t ⋮ & ⋮ & ⋮ & ⋮ & ⋮ & ⋮ & ⋮ & ⋮ & ⋮ & ⋮ & ⋱ & ⋮ & ⋮ & ⋮ & ⋮ & ⋮ & ⋮ & ⋮ & ⋮ & ⋮ & ⋮\\\\\n",
       "\t 29977 &  40000 & 1 & 2 & 2 & 47 & 2 & 2 & 3 & 2 & ⋯ & 51259 & 47151 & 46934 & 4000 &    0 & 2000 &    0 & 3520 &    0 & 1\\\\\n",
       "\t 29992 & 210000 & 1 & 2 & 1 & 34 & 3 & 2 & 2 & 2 & ⋯ &  2500 &  2500 &  2500 &    0 &    0 &    0 &    0 &    0 &    0 & 1\\\\\n",
       "\t 29995 &  80000 & 1 & 2 & 2 & 34 & 2 & 2 & 2 & 2 & ⋯ & 77519 & 82607 & 81158 & 7000 & 3500 &    0 & 7000 &    0 & 4000 & 1\\\\\n",
       "\\end{tabular}\n"
      ],
      "text/markdown": [
       "\n",
       "A tibble: 3035 × 25\n",
       "\n",
       "| ID &lt;dbl&gt; | LIMIT_BAL &lt;dbl&gt; | SEX &lt;fct&gt; | EDUCATION &lt;fct&gt; | MARRIAGE &lt;fct&gt; | AGE &lt;dbl&gt; | PAY_1 &lt;dbl&gt; | PAY_2 &lt;dbl&gt; | PAY_3 &lt;dbl&gt; | PAY_4 &lt;dbl&gt; | ⋯ ⋯ | BILL_AMT4 &lt;dbl&gt; | BILL_AMT5 &lt;dbl&gt; | BILL_AMT6 &lt;dbl&gt; | PAY_AMT1 &lt;dbl&gt; | PAY_AMT2 &lt;dbl&gt; | PAY_AMT3 &lt;dbl&gt; | PAY_AMT4 &lt;dbl&gt; | PAY_AMT5 &lt;dbl&gt; | PAY_AMT6 &lt;dbl&gt; | default.payment.next.month &lt;fct&gt; |\n",
       "|---|---|---|---|---|---|---|---|---|---|---|---|---|---|---|---|---|---|---|---|---|\n",
       "| 12 | 260000 | 2 | 1 | 2 | 51 | -1 | -1 | -1 | -1 | ⋯ |  8517 | 22287 | 13668 | 21818 |  9966 |  8583 | 22301 |     0 | 3640 | 0 |\n",
       "| 29 |  50000 | 2 | 3 | 1 | 47 | -1 | -1 | -1 | -1 | ⋯ |  2040 | 30430 |   257 |  3415 |  3421 |  2044 | 30430 |   257 |    0 | 0 |\n",
       "| 31 | 230000 | 2 | 1 | 2 | 27 | -1 | -1 | -1 | -1 | ⋯ | 15339 | 14307 | 36923 | 17270 | 13281 | 15339 | 14307 | 37292 |    0 | 0 |\n",
       "| ⋮ | ⋮ | ⋮ | ⋮ | ⋮ | ⋮ | ⋮ | ⋮ | ⋮ | ⋮ | ⋱ | ⋮ | ⋮ | ⋮ | ⋮ | ⋮ | ⋮ | ⋮ | ⋮ | ⋮ | ⋮ |\n",
       "| 29977 |  40000 | 1 | 2 | 2 | 47 | 2 | 2 | 3 | 2 | ⋯ | 51259 | 47151 | 46934 | 4000 |    0 | 2000 |    0 | 3520 |    0 | 1 |\n",
       "| 29992 | 210000 | 1 | 2 | 1 | 34 | 3 | 2 | 2 | 2 | ⋯ |  2500 |  2500 |  2500 |    0 |    0 |    0 |    0 |    0 |    0 | 1 |\n",
       "| 29995 |  80000 | 1 | 2 | 2 | 34 | 2 | 2 | 2 | 2 | ⋯ | 77519 | 82607 | 81158 | 7000 | 3500 |    0 | 7000 |    0 | 4000 | 1 |\n",
       "\n"
      ],
      "text/plain": [
       "     ID    LIMIT_BAL SEX EDUCATION MARRIAGE AGE PAY_1 PAY_2 PAY_3 PAY_4 ⋯\n",
       "1    12    260000    2   1         2        51  -1    -1    -1    -1    ⋯\n",
       "2    29     50000    2   3         1        47  -1    -1    -1    -1    ⋯\n",
       "3    31    230000    2   1         2        27  -1    -1    -1    -1    ⋯\n",
       "⋮    ⋮     ⋮         ⋮   ⋮         ⋮        ⋮   ⋮     ⋮     ⋮     ⋮     ⋱\n",
       "3033 29977  40000    1   2         2        47  2     2     3     2     ⋯\n",
       "3034 29992 210000    1   2         1        34  3     2     2     2     ⋯\n",
       "3035 29995  80000    1   2         2        34  2     2     2     2     ⋯\n",
       "     BILL_AMT4 BILL_AMT5 BILL_AMT6 PAY_AMT1 PAY_AMT2 PAY_AMT3 PAY_AMT4 PAY_AMT5\n",
       "1     8517     22287     13668     21818     9966     8583    22301        0   \n",
       "2     2040     30430       257      3415     3421     2044    30430      257   \n",
       "3    15339     14307     36923     17270    13281    15339    14307    37292   \n",
       "⋮    ⋮         ⋮         ⋮         ⋮        ⋮        ⋮        ⋮        ⋮       \n",
       "3033 51259     47151     46934     4000        0     2000        0     3520    \n",
       "3034  2500      2500      2500        0        0        0        0        0    \n",
       "3035 77519     82607     81158     7000     3500        0     7000        0    \n",
       "     PAY_AMT6 default.payment.next.month\n",
       "1    3640     0                         \n",
       "2       0     0                         \n",
       "3       0     0                         \n",
       "⋮    ⋮        ⋮                         \n",
       "3033    0     1                         \n",
       "3034    0     1                         \n",
       "3035 4000     1                         "
      ]
     },
     "metadata": {},
     "output_type": "display_data"
    }
   ],
   "source": [
    "credit_card_split <- initial_split(credit_card_tidy, prop = 0.75, strata = default.payment.next.month)\n",
    "credit_card_training <- training(credit_card_split)\n",
    "credit_card_testing <- testing(credit_card_split)\n",
    "credit_card_training"
   ]
  },
  {
   "cell_type": "markdown",
   "id": "dddb7333-651d-4750-8a66-10fd1bf40efa",
   "metadata": {},
   "source": [
    "### Data Summarization and Visualization"
   ]
  },
  {
   "cell_type": "markdown",
   "id": "e41eb50e-ad31-40cc-a47d-fb955dba2443",
   "metadata": {},
   "source": []
  }
 ],
 "metadata": {
  "kernelspec": {
   "display_name": "R",
   "language": "R",
   "name": "ir"
  },
  "language_info": {
   "codemirror_mode": "r",
   "file_extension": ".r",
   "mimetype": "text/x-r-source",
   "name": "R",
   "pygments_lexer": "r",
   "version": "4.3.1"
  }
 },
 "nbformat": 4,
 "nbformat_minor": 5
}
