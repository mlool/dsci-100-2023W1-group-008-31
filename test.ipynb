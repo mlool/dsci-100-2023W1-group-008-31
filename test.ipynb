{
 "cells": [
  {
   "cell_type": "markdown",
   "id": "6689a934-7ead-48ef-9423-43083ee6dceb",
   "metadata": {},
   "source": [
    "# Credit Card Default Predictor (DSCI Group Project Proposal)\n",
    "This project is to come up with whether we are able to predict whether the a account will default on his/her next credit card payment. The dataset is downloaded from https://www.kaggle.com/datasets/uciml/default-of-credit-card-clients-dataset"
   ]
  },
  {
   "cell_type": "code",
   "execution_count": 1,
   "id": "4c80d44c-967e-4039-9fa9-1b7a8e10fb5b",
   "metadata": {},
   "outputs": [
    {
     "name": "stderr",
     "output_type": "stream",
     "text": [
      "── \u001b[1mAttaching core tidyverse packages\u001b[22m ──────────────────────── tidyverse 2.0.0 ──\n",
      "\u001b[32m✔\u001b[39m \u001b[34mdplyr    \u001b[39m 1.1.3     \u001b[32m✔\u001b[39m \u001b[34mreadr    \u001b[39m 2.1.4\n",
      "\u001b[32m✔\u001b[39m \u001b[34mforcats  \u001b[39m 1.0.0     \u001b[32m✔\u001b[39m \u001b[34mstringr  \u001b[39m 1.5.0\n",
      "\u001b[32m✔\u001b[39m \u001b[34mggplot2  \u001b[39m 3.4.3     \u001b[32m✔\u001b[39m \u001b[34mtibble   \u001b[39m 3.2.1\n",
      "\u001b[32m✔\u001b[39m \u001b[34mlubridate\u001b[39m 1.9.2     \u001b[32m✔\u001b[39m \u001b[34mtidyr    \u001b[39m 1.3.0\n",
      "\u001b[32m✔\u001b[39m \u001b[34mpurrr    \u001b[39m 1.0.2     \n",
      "── \u001b[1mConflicts\u001b[22m ────────────────────────────────────────── tidyverse_conflicts() ──\n",
      "\u001b[31m✖\u001b[39m \u001b[34mdplyr\u001b[39m::\u001b[32mfilter()\u001b[39m masks \u001b[34mstats\u001b[39m::filter()\n",
      "\u001b[31m✖\u001b[39m \u001b[34mdplyr\u001b[39m::\u001b[32mlag()\u001b[39m    masks \u001b[34mstats\u001b[39m::lag()\n",
      "\u001b[36mℹ\u001b[39m Use the conflicted package (\u001b[3m\u001b[34m<http://conflicted.r-lib.org/>\u001b[39m\u001b[23m) to force all conflicts to become errors\n",
      "── \u001b[1mAttaching packages\u001b[22m ────────────────────────────────────── tidymodels 1.1.1 ──\n",
      "\n",
      "\u001b[32m✔\u001b[39m \u001b[34mbroom       \u001b[39m 1.0.5     \u001b[32m✔\u001b[39m \u001b[34mrsample     \u001b[39m 1.2.0\n",
      "\u001b[32m✔\u001b[39m \u001b[34mdials       \u001b[39m 1.2.0     \u001b[32m✔\u001b[39m \u001b[34mtune        \u001b[39m 1.1.2\n",
      "\u001b[32m✔\u001b[39m \u001b[34minfer       \u001b[39m 1.0.4     \u001b[32m✔\u001b[39m \u001b[34mworkflows   \u001b[39m 1.1.3\n",
      "\u001b[32m✔\u001b[39m \u001b[34mmodeldata   \u001b[39m 1.2.0     \u001b[32m✔\u001b[39m \u001b[34mworkflowsets\u001b[39m 1.0.1\n",
      "\u001b[32m✔\u001b[39m \u001b[34mparsnip     \u001b[39m 1.1.1     \u001b[32m✔\u001b[39m \u001b[34myardstick   \u001b[39m 1.2.0\n",
      "\u001b[32m✔\u001b[39m \u001b[34mrecipes     \u001b[39m 1.0.8     \n",
      "\n",
      "── \u001b[1mConflicts\u001b[22m ───────────────────────────────────────── tidymodels_conflicts() ──\n",
      "\u001b[31m✖\u001b[39m \u001b[34mscales\u001b[39m::\u001b[32mdiscard()\u001b[39m masks \u001b[34mpurrr\u001b[39m::discard()\n",
      "\u001b[31m✖\u001b[39m \u001b[34mdplyr\u001b[39m::\u001b[32mfilter()\u001b[39m   masks \u001b[34mstats\u001b[39m::filter()\n",
      "\u001b[31m✖\u001b[39m \u001b[34mrecipes\u001b[39m::\u001b[32mfixed()\u001b[39m  masks \u001b[34mstringr\u001b[39m::fixed()\n",
      "\u001b[31m✖\u001b[39m \u001b[34mdplyr\u001b[39m::\u001b[32mlag()\u001b[39m      masks \u001b[34mstats\u001b[39m::lag()\n",
      "\u001b[31m✖\u001b[39m \u001b[34myardstick\u001b[39m::\u001b[32mspec()\u001b[39m masks \u001b[34mreadr\u001b[39m::spec()\n",
      "\u001b[31m✖\u001b[39m \u001b[34mrecipes\u001b[39m::\u001b[32mstep()\u001b[39m   masks \u001b[34mstats\u001b[39m::step()\n",
      "\u001b[34m•\u001b[39m Use suppressPackageStartupMessages() to eliminate package startup messages\n",
      "\n"
     ]
    }
   ],
   "source": [
    "library(tidyverse)\n",
    "library(repr)\n",
    "library(tidymodels)\n",
    "options(repr.matrix.max.rows = 6)"
   ]
  },
  {
   "cell_type": "code",
   "execution_count": 3,
   "id": "633d37fd-0af5-491e-9df6-efbe95cb93cf",
   "metadata": {},
   "outputs": [
    {
     "name": "stderr",
     "output_type": "stream",
     "text": [
      "\u001b[1mRows: \u001b[22m\u001b[34m30000\u001b[39m \u001b[1mColumns: \u001b[22m\u001b[34m25\u001b[39m\n",
      "\u001b[36m──\u001b[39m \u001b[1mColumn specification\u001b[22m \u001b[36m────────────────────────────────────────────────────────\u001b[39m\n",
      "\u001b[1mDelimiter:\u001b[22m \",\"\n",
      "\u001b[32mdbl\u001b[39m (25): ID, LIMIT_BAL, SEX, EDUCATION, MARRIAGE, AGE, PAY_0, PAY_2, PAY_3,...\n",
      "\n",
      "\u001b[36mℹ\u001b[39m Use `spec()` to retrieve the full column specification for this data.\n",
      "\u001b[36mℹ\u001b[39m Specify the column types or set `show_col_types = FALSE` to quiet this message.\n"
     ]
    },
    {
     "data": {
      "text/html": [
       "<table class=\"dataframe\">\n",
       "<caption>A spec_tbl_df: 30000 × 25</caption>\n",
       "<thead>\n",
       "\t<tr><th scope=col>ID</th><th scope=col>LIMIT_BAL</th><th scope=col>SEX</th><th scope=col>EDUCATION</th><th scope=col>MARRIAGE</th><th scope=col>AGE</th><th scope=col>PAY_0</th><th scope=col>PAY_2</th><th scope=col>PAY_3</th><th scope=col>PAY_4</th><th scope=col>⋯</th><th scope=col>BILL_AMT4</th><th scope=col>BILL_AMT5</th><th scope=col>BILL_AMT6</th><th scope=col>PAY_AMT1</th><th scope=col>PAY_AMT2</th><th scope=col>PAY_AMT3</th><th scope=col>PAY_AMT4</th><th scope=col>PAY_AMT5</th><th scope=col>PAY_AMT6</th><th scope=col>default.payment.next.month</th></tr>\n",
       "\t<tr><th scope=col>&lt;dbl&gt;</th><th scope=col>&lt;dbl&gt;</th><th scope=col>&lt;dbl&gt;</th><th scope=col>&lt;dbl&gt;</th><th scope=col>&lt;dbl&gt;</th><th scope=col>&lt;dbl&gt;</th><th scope=col>&lt;dbl&gt;</th><th scope=col>&lt;dbl&gt;</th><th scope=col>&lt;dbl&gt;</th><th scope=col>&lt;dbl&gt;</th><th scope=col>⋯</th><th scope=col>&lt;dbl&gt;</th><th scope=col>&lt;dbl&gt;</th><th scope=col>&lt;dbl&gt;</th><th scope=col>&lt;dbl&gt;</th><th scope=col>&lt;dbl&gt;</th><th scope=col>&lt;dbl&gt;</th><th scope=col>&lt;dbl&gt;</th><th scope=col>&lt;dbl&gt;</th><th scope=col>&lt;dbl&gt;</th><th scope=col>&lt;dbl&gt;</th></tr>\n",
       "</thead>\n",
       "<tbody>\n",
       "\t<tr><td>1</td><td> 20000</td><td>2</td><td>2</td><td>1</td><td>24</td><td> 2</td><td>2</td><td>-1</td><td>-1</td><td>⋯</td><td>    0</td><td>    0</td><td>    0</td><td>   0</td><td> 689</td><td>   0</td><td>   0</td><td>   0</td><td>   0</td><td>1</td></tr>\n",
       "\t<tr><td>2</td><td>120000</td><td>2</td><td>2</td><td>2</td><td>26</td><td>-1</td><td>2</td><td> 0</td><td> 0</td><td>⋯</td><td> 3272</td><td> 3455</td><td> 3261</td><td>   0</td><td>1000</td><td>1000</td><td>1000</td><td>   0</td><td>2000</td><td>1</td></tr>\n",
       "\t<tr><td>3</td><td> 90000</td><td>2</td><td>2</td><td>2</td><td>34</td><td> 0</td><td>0</td><td> 0</td><td> 0</td><td>⋯</td><td>14331</td><td>14948</td><td>15549</td><td>1518</td><td>1500</td><td>1000</td><td>1000</td><td>1000</td><td>5000</td><td>0</td></tr>\n",
       "\t<tr><td>⋮</td><td>⋮</td><td>⋮</td><td>⋮</td><td>⋮</td><td>⋮</td><td>⋮</td><td>⋮</td><td>⋮</td><td>⋮</td><td>⋱</td><td>⋮</td><td>⋮</td><td>⋮</td><td>⋮</td><td>⋮</td><td>⋮</td><td>⋮</td><td>⋮</td><td>⋮</td><td>⋮</td></tr>\n",
       "\t<tr><td>29998</td><td>30000</td><td>1</td><td>2</td><td>2</td><td>37</td><td>4</td><td> 3</td><td>2</td><td>-1</td><td>⋯</td><td>20878</td><td>20582</td><td>19357</td><td>    0</td><td>   0</td><td>22000</td><td>4200</td><td> 2000</td><td>3100</td><td>1</td></tr>\n",
       "\t<tr><td>29999</td><td>80000</td><td>1</td><td>3</td><td>1</td><td>41</td><td>1</td><td>-1</td><td>0</td><td> 0</td><td>⋯</td><td>52774</td><td>11855</td><td>48944</td><td>85900</td><td>3409</td><td> 1178</td><td>1926</td><td>52964</td><td>1804</td><td>1</td></tr>\n",
       "\t<tr><td>30000</td><td>50000</td><td>1</td><td>2</td><td>1</td><td>46</td><td>0</td><td> 0</td><td>0</td><td> 0</td><td>⋯</td><td>36535</td><td>32428</td><td>15313</td><td> 2078</td><td>1800</td><td> 1430</td><td>1000</td><td> 1000</td><td>1000</td><td>1</td></tr>\n",
       "</tbody>\n",
       "</table>\n"
      ],
      "text/latex": [
       "A spec\\_tbl\\_df: 30000 × 25\n",
       "\\begin{tabular}{lllllllllllllllllllll}\n",
       " ID & LIMIT\\_BAL & SEX & EDUCATION & MARRIAGE & AGE & PAY\\_0 & PAY\\_2 & PAY\\_3 & PAY\\_4 & ⋯ & BILL\\_AMT4 & BILL\\_AMT5 & BILL\\_AMT6 & PAY\\_AMT1 & PAY\\_AMT2 & PAY\\_AMT3 & PAY\\_AMT4 & PAY\\_AMT5 & PAY\\_AMT6 & default.payment.next.month\\\\\n",
       " <dbl> & <dbl> & <dbl> & <dbl> & <dbl> & <dbl> & <dbl> & <dbl> & <dbl> & <dbl> & ⋯ & <dbl> & <dbl> & <dbl> & <dbl> & <dbl> & <dbl> & <dbl> & <dbl> & <dbl> & <dbl>\\\\\n",
       "\\hline\n",
       "\t 1 &  20000 & 2 & 2 & 1 & 24 &  2 & 2 & -1 & -1 & ⋯ &     0 &     0 &     0 &    0 &  689 &    0 &    0 &    0 &    0 & 1\\\\\n",
       "\t 2 & 120000 & 2 & 2 & 2 & 26 & -1 & 2 &  0 &  0 & ⋯ &  3272 &  3455 &  3261 &    0 & 1000 & 1000 & 1000 &    0 & 2000 & 1\\\\\n",
       "\t 3 &  90000 & 2 & 2 & 2 & 34 &  0 & 0 &  0 &  0 & ⋯ & 14331 & 14948 & 15549 & 1518 & 1500 & 1000 & 1000 & 1000 & 5000 & 0\\\\\n",
       "\t ⋮ & ⋮ & ⋮ & ⋮ & ⋮ & ⋮ & ⋮ & ⋮ & ⋮ & ⋮ & ⋱ & ⋮ & ⋮ & ⋮ & ⋮ & ⋮ & ⋮ & ⋮ & ⋮ & ⋮ & ⋮\\\\\n",
       "\t 29998 & 30000 & 1 & 2 & 2 & 37 & 4 &  3 & 2 & -1 & ⋯ & 20878 & 20582 & 19357 &     0 &    0 & 22000 & 4200 &  2000 & 3100 & 1\\\\\n",
       "\t 29999 & 80000 & 1 & 3 & 1 & 41 & 1 & -1 & 0 &  0 & ⋯ & 52774 & 11855 & 48944 & 85900 & 3409 &  1178 & 1926 & 52964 & 1804 & 1\\\\\n",
       "\t 30000 & 50000 & 1 & 2 & 1 & 46 & 0 &  0 & 0 &  0 & ⋯ & 36535 & 32428 & 15313 &  2078 & 1800 &  1430 & 1000 &  1000 & 1000 & 1\\\\\n",
       "\\end{tabular}\n"
      ],
      "text/markdown": [
       "\n",
       "A spec_tbl_df: 30000 × 25\n",
       "\n",
       "| ID &lt;dbl&gt; | LIMIT_BAL &lt;dbl&gt; | SEX &lt;dbl&gt; | EDUCATION &lt;dbl&gt; | MARRIAGE &lt;dbl&gt; | AGE &lt;dbl&gt; | PAY_0 &lt;dbl&gt; | PAY_2 &lt;dbl&gt; | PAY_3 &lt;dbl&gt; | PAY_4 &lt;dbl&gt; | ⋯ ⋯ | BILL_AMT4 &lt;dbl&gt; | BILL_AMT5 &lt;dbl&gt; | BILL_AMT6 &lt;dbl&gt; | PAY_AMT1 &lt;dbl&gt; | PAY_AMT2 &lt;dbl&gt; | PAY_AMT3 &lt;dbl&gt; | PAY_AMT4 &lt;dbl&gt; | PAY_AMT5 &lt;dbl&gt; | PAY_AMT6 &lt;dbl&gt; | default.payment.next.month &lt;dbl&gt; |\n",
       "|---|---|---|---|---|---|---|---|---|---|---|---|---|---|---|---|---|---|---|---|---|\n",
       "| 1 |  20000 | 2 | 2 | 1 | 24 |  2 | 2 | -1 | -1 | ⋯ |     0 |     0 |     0 |    0 |  689 |    0 |    0 |    0 |    0 | 1 |\n",
       "| 2 | 120000 | 2 | 2 | 2 | 26 | -1 | 2 |  0 |  0 | ⋯ |  3272 |  3455 |  3261 |    0 | 1000 | 1000 | 1000 |    0 | 2000 | 1 |\n",
       "| 3 |  90000 | 2 | 2 | 2 | 34 |  0 | 0 |  0 |  0 | ⋯ | 14331 | 14948 | 15549 | 1518 | 1500 | 1000 | 1000 | 1000 | 5000 | 0 |\n",
       "| ⋮ | ⋮ | ⋮ | ⋮ | ⋮ | ⋮ | ⋮ | ⋮ | ⋮ | ⋮ | ⋱ | ⋮ | ⋮ | ⋮ | ⋮ | ⋮ | ⋮ | ⋮ | ⋮ | ⋮ | ⋮ |\n",
       "| 29998 | 30000 | 1 | 2 | 2 | 37 | 4 |  3 | 2 | -1 | ⋯ | 20878 | 20582 | 19357 |     0 |    0 | 22000 | 4200 |  2000 | 3100 | 1 |\n",
       "| 29999 | 80000 | 1 | 3 | 1 | 41 | 1 | -1 | 0 |  0 | ⋯ | 52774 | 11855 | 48944 | 85900 | 3409 |  1178 | 1926 | 52964 | 1804 | 1 |\n",
       "| 30000 | 50000 | 1 | 2 | 1 | 46 | 0 |  0 | 0 |  0 | ⋯ | 36535 | 32428 | 15313 |  2078 | 1800 |  1430 | 1000 |  1000 | 1000 | 1 |\n",
       "\n"
      ],
      "text/plain": [
       "      ID    LIMIT_BAL SEX EDUCATION MARRIAGE AGE PAY_0 PAY_2 PAY_3 PAY_4 ⋯\n",
       "1     1      20000    2   2         1        24   2    2     -1    -1    ⋯\n",
       "2     2     120000    2   2         2        26  -1    2      0     0    ⋯\n",
       "3     3      90000    2   2         2        34   0    0      0     0    ⋯\n",
       "⋮     ⋮     ⋮         ⋮   ⋮         ⋮        ⋮   ⋮     ⋮     ⋮     ⋮     ⋱\n",
       "29998 29998 30000     1   2         2        37  4      3    2     -1    ⋯\n",
       "29999 29999 80000     1   3         1        41  1     -1    0      0    ⋯\n",
       "30000 30000 50000     1   2         1        46  0      0    0      0    ⋯\n",
       "      BILL_AMT4 BILL_AMT5 BILL_AMT6 PAY_AMT1 PAY_AMT2 PAY_AMT3 PAY_AMT4\n",
       "1         0         0         0        0      689        0        0    \n",
       "2      3272      3455      3261        0     1000     1000     1000    \n",
       "3     14331     14948     15549     1518     1500     1000     1000    \n",
       "⋮     ⋮         ⋮         ⋮         ⋮        ⋮        ⋮        ⋮       \n",
       "29998 20878     20582     19357         0       0     22000    4200    \n",
       "29999 52774     11855     48944     85900    3409      1178    1926    \n",
       "30000 36535     32428     15313      2078    1800      1430    1000    \n",
       "      PAY_AMT5 PAY_AMT6 default.payment.next.month\n",
       "1        0        0     1                         \n",
       "2        0     2000     1                         \n",
       "3     1000     5000     0                         \n",
       "⋮     ⋮        ⋮        ⋮                         \n",
       "29998  2000    3100     1                         \n",
       "29999 52964    1804     1                         \n",
       "30000  1000    1000     1                         "
      ]
     },
     "metadata": {},
     "output_type": "display_data"
    }
   ],
   "source": [
    "credit_card_data <- read_csv(\"data/UCI_Credit_Card.csv\")\n",
    "credit_card_data\n",
    "\n",
    "# https://www.kaggle.com/datasets/uciml/default-of-credit-card-clients-dataset/download?datasetVersionNumber=1"
   ]
  },
  {
   "cell_type": "markdown",
   "id": "b50afb77-af0e-481d-9c5a-c63ae1d864d3",
   "metadata": {},
   "source": [
    "From the webpage, we see that ID represent the ID of the client, LIMIT_BAL "
   ]
  }
 ],
 "metadata": {
  "kernelspec": {
   "display_name": "R",
   "language": "R",
   "name": "ir"
  },
  "language_info": {
   "codemirror_mode": "r",
   "file_extension": ".r",
   "mimetype": "text/x-r-source",
   "name": "R",
   "pygments_lexer": "r",
   "version": "4.3.1"
  }
 },
 "nbformat": 4,
 "nbformat_minor": 5
}
